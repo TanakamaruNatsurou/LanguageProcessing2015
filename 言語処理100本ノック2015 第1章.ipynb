{
 "cells": [
  {
   "cell_type": "code",
   "execution_count": 49,
   "metadata": {
    "collapsed": false
   },
   "outputs": [
    {
     "data": {
      "text/plain": [
       "'desserts'"
      ]
     },
     "execution_count": 49,
     "metadata": {},
     "output_type": "execute_result"
    }
   ],
   "source": [
    "#00 文字列\"stressed\"の文字を逆に（末尾から先頭に向かって）並べた文字列を得よ．\n",
    "reverse = \"stressed\"\n",
    "reverse = reverse[::-1]\n",
    "reverse\n",
    "#str[最初:最後:ステップ数]"
   ]
  },
  {
   "cell_type": "code",
   "execution_count": 6,
   "metadata": {
    "collapsed": false
   },
   "outputs": [
    {
     "data": {
      "text/plain": [
       "'パトカー'"
      ]
     },
     "execution_count": 6,
     "metadata": {},
     "output_type": "execute_result"
    }
   ],
   "source": [
    "#01 「パタトクカシーー」という文字列の1,3,5,7文字目を取り出して連結した文字列を得よ．\n",
    "moji = \"パタトクカシーー\"\n",
    "a = \"\"\n",
    "for i in range(0,len(moji),2):\n",
    "    a += moji[i]\n",
    "a"
   ]
  },
  {
   "cell_type": "code",
   "execution_count": 9,
   "metadata": {
    "collapsed": false
   },
   "outputs": [
    {
     "data": {
      "text/plain": [
       "'パタトクカシーー'"
      ]
     },
     "execution_count": 9,
     "metadata": {},
     "output_type": "execute_result"
    }
   ],
   "source": [
    "#02 「パトカー」＋「タクシー」の文字を先頭から交互に連結して文字列「パタトクカシーー」を得よ．\n",
    "moji2 = \"パトカー\"\n",
    "moji3 = \"タクシー\"\n",
    "b = \"\"\n",
    "for i,j in zip(moji2,moji3):\n",
    "    b+=i+j\n",
    "b"
   ]
  },
  {
   "cell_type": "code",
   "execution_count": 51,
   "metadata": {
    "collapsed": false
   },
   "outputs": [
    {
     "name": "stdout",
     "output_type": "stream",
     "text": [
      "[3, 1, 4, 1, 5, 9, 2, 6, 5, 3, 5, 8, 9, 7, 9]\n"
     ]
    }
   ],
   "source": [
    "#03 \"Now I need a drink, alcoholic of course, after the heavy lectures involving quantum mechanics.\"という文を単語に分解し，\n",
    "#各単語の（アルファベットの）文字数を先頭から出現順に並べたリストを作成せよ．\n",
    "sentense = \"Now I need a drink, alcoholic of course, after the heavy lectures involving quantum mechanics.\"\n",
    "count = []\n",
    "for i in sentense.split():\n",
    "    count.append(len(i.strip(\",.\")))\n",
    "print(count)\n",
    "#strip(\"abc\")・・・文字列の両端から指定文字をはぎとる"
   ]
  },
  {
   "cell_type": "code",
   "execution_count": 56,
   "metadata": {
    "collapsed": false
   },
   "outputs": [
    {
     "name": "stdout",
     "output_type": "stream",
     "text": [
      "{'H': 1, 'He': 2, 'Li': 3, 'Be': 4, 'B': 5, 'C': 6, 'N': 7, 'O': 8, 'F': 9, 'Ne': 10, 'Na': 11, 'Mg': 12, 'Al': 13, 'Si': 14, 'P': 15, 'S': 16, 'Cl': 17, 'Ar': 18, 'K': 19, 'Ca': 20}\n"
     ]
    }
   ],
   "source": [
    "#04 \"Hi He Lied Because Boron Could Not Oxidize Fluorine. New Nations Might Also Sign Peace Security Clause. Arthur King Can.\"という文を\n",
    "#単語に分解し，1, 5, 6, 7, 8, 9, 15, 16, 19番目の単語は先頭の1文字，それ以外の単語は先頭に2文字を取り出し，取り出した文字列から\n",
    "#単語の位置（先頭から何番目の単語か）への連想配列（辞書型もしくはマップ型）を作成せよ．\n",
    "sentence2 = \"Hi He Lied Because Boron Could Not Oxidize Fluorine. New Nations Mght Also Sign Peace Security Clause. Arthur King Can.\"\n",
    "sentence2_revise = sentence2.strip(\".\")\n",
    "sentence2_strip = sentence2_revise.split()\n",
    "elesym = {}\n",
    "for i,text in enumerate(sentence2_strip):\n",
    "    n = i+1\n",
    "    if n in (1,5,6,7,8,9,15,16,19):\n",
    "        elesym[text[:1]] = n\n",
    "    else:\n",
    "        elesym[text[:2]] = n\n",
    "print(elesym)\n",
    "#inメソッドとは､コレクションに特定の要素が含まれているかどうかを条件式に指定するメソッド"
   ]
  },
  {
   "cell_type": "code",
   "execution_count": 69,
   "metadata": {
    "collapsed": false
   },
   "outputs": [
    {
     "name": "stdout",
     "output_type": "stream",
     "text": [
      "[['I', 'am'], ['am', 'an'], ['an', 'NLPer']]\n",
      "['I ', ' a', 'am', 'm ', ' a', 'an', 'n ', ' N', 'NL', 'LP', 'Pe', 'er']\n"
     ]
    }
   ],
   "source": [
    "#05 与えられたシーケンス（文字列やリストなど）からn-gramを作る関数を作成せよ．\n",
    "#この関数を用い，\"I am an NLPer\"という文から単語bi-gram，文字bi-gramを得よ．\n",
    "def make_n_gram(target, n):\n",
    "    result = []\n",
    "    for i in range(0, len(target) - n + 1):\n",
    "        result.append(target[i:i + n])\n",
    "    return result\n",
    "\n",
    "target = 'I am an NLPer'\n",
    "words_target = target.split(' ')\n",
    "\n",
    "# 単語bi-gram\n",
    "result = make_n_gram(words_target, 2)\n",
    "print(result)\n",
    "\n",
    "# 文字bi-gram\n",
    "result = make_n_gram(target, 2)\n",
    "print(result)\n",
    "#range(0,12)・・・0の前から12の前まで、つまり0-11"
   ]
  },
  {
   "cell_type": "code",
   "execution_count": 72,
   "metadata": {
    "collapsed": false
   },
   "outputs": [
    {
     "name": "stdout",
     "output_type": "stream",
     "text": [
      "X:{'is', 'ar', 'pa', 'se', 'ra', 'di', 'ap', 'ad'}\n",
      "Y:{'ar', 'gr', 'pa', 'ag', 'ph', 'ra', 'ap'}\n",
      "和集合:{'ar', 'se', 'ag', 'ra', 'di', 'ph', 'is', 'gr', 'pa', 'ap', 'ad'}\n",
      "積集合:{'ra', 'ar', 'pa', 'ap'}\n",
      "差集合:{'is', 'se', 'di', 'ad'}\n",
      "seがXに含まれる:True\n",
      "seがYに含まれる:False\n"
     ]
    }
   ],
   "source": [
    "#06 \"paraparaparadise\"と\"paragraph\"に含まれる文字bi-gramの集合を，それぞれ, XとYとして求め，XとYの和集合，積集合，差集合を求めよ．\n",
    "#さらに，'se'というbi-gramがXおよびYに含まれるかどうかを調べよ．\n",
    "def n_gram(target, n):\n",
    "    result = []\n",
    "    for i in range(0, len(target) - n + 1):\n",
    "        result.append(target[i:i + n])\n",
    "    return result\n",
    "\n",
    "# 集合の作成\n",
    "set_x = set(n_gram('paraparaparadise', 2))\n",
    "print('X:' + str(set_x))\n",
    "set_y = set(n_gram('paragraph', 2))\n",
    "print('Y:' + str(set_y))\n",
    "\n",
    "# 和集合\n",
    "set_or = set.union(set_x,set_y)\n",
    "print('和集合:' + str(set_or))\n",
    "\n",
    "# 積集合\n",
    "set_and = set.intersection(set_x,set_y)\n",
    "print('積集合:' + str(set_and))\n",
    "\n",
    "# 差集合\n",
    "set_sub = set.difference(set_x,set_y)\n",
    "print('差集合:' + str(set_sub))\n",
    "\n",
    "# 'se'が含まれるか？\n",
    "print('seがXに含まれる:' + str('se' in set_x))\n",
    "print('seがYに含まれる:' + str('se' in set_y))"
   ]
  },
  {
   "cell_type": "code",
   "execution_count": 29,
   "metadata": {
    "collapsed": false
   },
   "outputs": [
    {
     "data": {
      "text/plain": [
       "'15時の気温は27.2'"
      ]
     },
     "execution_count": 29,
     "metadata": {},
     "output_type": "execute_result"
    }
   ],
   "source": [
    "#07 引数x, y, zを受け取り「x時のyはz」という文字列を返す関数を実装せよ．\n",
    "#さらに，x=12, y=\"気温\", z=22.4として，実行結果を確認せよ．\n",
    "def template(x,y,z):\n",
    "    return \"{}時の{}は{}\".format(x,y,z)\n",
    "template(15,\"気温\",27.2)"
   ]
  },
  {
   "cell_type": "code",
   "execution_count": 64,
   "metadata": {
    "collapsed": false
   },
   "outputs": [
    {
     "name": "stdout",
     "output_type": "stream",
     "text": [
      "暗号化:Ig droo yv tvmvizoob zwnrggvw gszg Bvvgslevm'h Frugs Sbnkslmb rh gsv nlhg hfyornv mlrhv gszg szh vevi kvmvgizgvw rmgl gsv vzi lu nzm.\n",
      "復号化:It will be generally admitted that Beethoven's Fifth Symphony is the most sublime noise that has ever penetrated into the ear of man.\n"
     ]
    }
   ],
   "source": [
    "#08 与えられた文字列の各文字を，以下の仕様で変換する関数cipherを実装せよ．\n",
    "#英小文字ならば(219 - 文字コード)の文字に置換\n",
    "#その他の文字はそのまま出力\n",
    "#この関数を用い，英語のメッセージを暗号化・復号化せよ．\n",
    "def cipher(text):\n",
    "    a = \"\"\n",
    "    for x in text:\n",
    "        if x.islower() == True:\n",
    "            a+= chr(219-ord(x))\n",
    "        else:\n",
    "            a += x\n",
    "    return a\n",
    "\n",
    "text = \"It will be generally admitted that Beethoven's Fifth Symphony is the most sublime noise that has ever penetrated into the ear of man.\"\n",
    "\n",
    "# 暗号化\n",
    "result = cipher(text)\n",
    "print('暗号化:' + result)\n",
    "\n",
    "# 復号化\n",
    "result2 = cipher(result)\n",
    "print('復号化:' + result2)\n",
    "\n",
    "#x.islower()・・・Don't forget ()\n",
    "#chr()・・・Unicode コードポイントが整数 i である文字を表す文字列を返します\n",
    "#ord()・・・その文字の Unicode コードポイントを表す整数を返します"
   ]
  },
  {
   "cell_type": "code",
   "execution_count": 74,
   "metadata": {
    "collapsed": false
   },
   "outputs": [
    {
     "data": {
      "text/plain": [
       "\"I cul'odnt beeivle that I cluod atllaucy uednntarsd what I was rideang : the pneemnaohl power of the haumn mnid.\""
      ]
     },
     "execution_count": 74,
     "metadata": {},
     "output_type": "execute_result"
    }
   ],
   "source": [
    "#09 スペースで区切られた単語列に対して，各単語の先頭と末尾の文字は残し，それ以外の文字の順序をランダムに並び替えるプログラムを作成せよ．\n",
    "#ただし，長さが４以下の単語は並び替えないこととする．適当な英語の文を与え，その実行結果を確認せよ．\n",
    "import random\n",
    "\n",
    "def Typoglycemia(target):\n",
    "    result = []\n",
    "    for word in target.split(' '):\n",
    "        if len(word) <= 4:\n",
    "            result.append(word)\n",
    "        else:\n",
    "            chr_list = list(word[1:-1])\n",
    "            random.shuffle(chr_list)\n",
    "            result.append(word[0] + ''.join(chr_list) + word[-1])\n",
    "\n",
    "    return ' '.join(result)\n",
    "#list()・・・文字列やタプルなどのシーケンス型のオブジェクトからリストを作成する\n",
    "#random.shuffle()・・・listをシャッフルする、import randomが必要\n",
    "#\"この区切り文字で\".join(ここの中身を)繋げる,今回は区切りなし\n",
    "Typoglycemia(\"I couldn't believe that I could actually understand what I was reading : the phenomenal power of the human mind.\")"
   ]
  }
 ],
 "metadata": {
  "kernelspec": {
   "display_name": "Python 3",
   "language": "python",
   "name": "python3"
  },
  "language_info": {
   "codemirror_mode": {
    "name": "ipython",
    "version": 3
   },
   "file_extension": ".py",
   "mimetype": "text/x-python",
   "name": "python",
   "nbconvert_exporter": "python",
   "pygments_lexer": "ipython3",
   "version": "3.6.0"
  }
 },
 "nbformat": 4,
 "nbformat_minor": 2
}
